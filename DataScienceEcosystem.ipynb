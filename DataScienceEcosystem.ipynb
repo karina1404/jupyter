{
 "cells": [
  {
   "cell_type": "markdown",
   "id": "7a669a99-d870-4ca1-8d92-31ddb56a9420",
   "metadata": {},
   "source": [
    "\n",
    "#  Data Science Tools and Ecosystem"
   ]
  },
  {
   "cell_type": "markdown",
   "id": "fa5ac8e5-cdcc-4f56-83b6-bf8db67532fb",
   "metadata": {
    "tags": []
   },
   "source": [
    "In this notebook, Data Science Tools and Ecosystem are summarized."
   ]
  },
  {
   "cell_type": "markdown",
   "id": "bb0cabc3-275c-461f-8c16-b09285a0c71c",
   "metadata": {
    "tags": []
   },
   "source": [
    "**Objectives:**"
   ]
  },
  {
   "cell_type": "markdown",
   "id": "05e010cf-d584-4ae3-8153-4479b3660488",
   "metadata": {},
   "source": [
    "1. Create a Jupyter Notebook\n",
    "\n",
    "2. Insert code and markdown cells\n",
    "\n",
    "3. Share your notebook through GitHub"
   ]
  },
  {
   "cell_type": "markdown",
   "id": "5001eb8e-4fc9-4d5c-a716-5c69889af69a",
   "metadata": {},
   "source": [
    "#### List popular languages for Data Science"
   ]
  },
  {
   "cell_type": "markdown",
   "id": "0efc72dc-fbcd-4a1c-81bf-688b833a736a",
   "metadata": {},
   "source": [
    "- Phyton\n",
    "- R\n",
    "- SQL\n",
    "- Julia\n",
    "- Java"
   ]
  },
  {
   "cell_type": "markdown",
   "id": "d1f774a5-d365-41d6-bae3-29eaef9897dc",
   "metadata": {},
   "source": [
    "# Some of the popular languages that Data Scientists use are:\n",
    "1. Python\n",
    "2. R\n",
    "3. SQL\n",
    "4. Julia"
   ]
  },
  {
   "cell_type": "markdown",
   "id": "92cf6788-3019-43e0-8f9e-4cb8067d6604",
   "metadata": {},
   "source": [
    "# Some of the commonly used libraries used by Data Scientists include\n",
    "1. Pandas\n",
    "2. NumPy\n",
    "3. TensorFlow\n",
    "4. Matplotlib"
   ]
  },
  {
   "cell_type": "markdown",
   "id": "622fb034-cbf3-4c07-b962-5c95acd431e8",
   "metadata": {},
   "source": [
    "| Data Science Tools | \n",
    "| -------------|\n",
    "| Jupyter Notebooks | \n",
    "| RStudio| \n",
    "| Spyder | "
   ]
  },
  {
   "cell_type": "markdown",
   "id": "44c0f508-f0aa-4a5e-b2a8-8357d36e67f7",
   "metadata": {},
   "source": [
    "### Below are a few examples of evaluating arithmetic expressions in Python"
   ]
  },
  {
   "cell_type": "code",
   "execution_count": 3,
   "id": "b934994e-1d22-464a-a003-8145e0cf928f",
   "metadata": {
    "tags": []
   },
   "outputs": [
    {
     "data": {
      "text/plain": [
       "5"
      ]
     },
     "execution_count": 3,
     "metadata": {},
     "output_type": "execute_result"
    }
   ],
   "source": [
    "2+3"
   ]
  },
  {
   "cell_type": "code",
   "execution_count": 4,
   "id": "ec00c287-b52a-41e9-a9a4-d8b0d814ce53",
   "metadata": {
    "tags": []
   },
   "outputs": [
    {
     "data": {
      "text/plain": [
       "20"
      ]
     },
     "execution_count": 4,
     "metadata": {},
     "output_type": "execute_result"
    }
   ],
   "source": [
    "5*4"
   ]
  },
  {
   "cell_type": "code",
   "execution_count": 7,
   "id": "4f332ba7-5c93-4565-b76c-e4912d643091",
   "metadata": {
    "tags": []
   },
   "outputs": [
    {
     "data": {
      "text/plain": [
       "-1"
      ]
     },
     "execution_count": 7,
     "metadata": {},
     "output_type": "execute_result"
    }
   ],
   "source": [
    "7-8"
   ]
  },
  {
   "cell_type": "code",
   "execution_count": 8,
   "id": "43d38903-19e6-4009-9424-e2d4e4fe53cd",
   "metadata": {
    "tags": []
   },
   "outputs": [
    {
     "name": "stdout",
     "output_type": "stream",
     "text": [
      "This a simple arithmetic expression to mutiply then add integers\n"
     ]
    }
   ],
   "source": [
    "print(\"This a simple arithmetic expression to mutiply then add integers\")"
   ]
  },
  {
   "cell_type": "code",
   "execution_count": 9,
   "id": "9624d1f4-2ec4-4b30-bb77-8e57accbe551",
   "metadata": {
    "tags": []
   },
   "outputs": [
    {
     "data": {
      "text/plain": [
       "17"
      ]
     },
     "execution_count": 9,
     "metadata": {},
     "output_type": "execute_result"
    }
   ],
   "source": [
    "(3*4)+5"
   ]
  },
  {
   "cell_type": "code",
   "execution_count": 10,
   "id": "70d6be0b-67f6-479f-ac51-c06d8e113066",
   "metadata": {
    "tags": []
   },
   "outputs": [
    {
     "name": "stdout",
     "output_type": "stream",
     "text": [
      "This will convert 200 minutes to hours by diving by 60\n"
     ]
    }
   ],
   "source": [
    "print(\"This will convert 200 minutes to hours by diving by 60\")"
   ]
  },
  {
   "cell_type": "code",
   "execution_count": 11,
   "id": "0e47e0cf-4256-4971-a7a6-f6db64f4daf9",
   "metadata": {
    "tags": []
   },
   "outputs": [
    {
     "data": {
      "text/plain": [
       "3"
      ]
     },
     "execution_count": 11,
     "metadata": {},
     "output_type": "execute_result"
    }
   ],
   "source": [
    "200//60"
   ]
  },
  {
   "cell_type": "markdown",
   "id": "4686cdf5-12c7-4256-8faf-dcd61a07c330",
   "metadata": {},
   "source": [
    "## Author\n",
    "Karina Oportus"
   ]
  },
  {
   "cell_type": "code",
   "execution_count": null,
   "id": "24598a9d-c328-4d3f-a810-3be7d413386d",
   "metadata": {},
   "outputs": [],
   "source": []
  }
 ],
 "metadata": {
  "kernelspec": {
   "display_name": "Python",
   "language": "python",
   "name": "conda-env-python-py"
  },
  "language_info": {
   "codemirror_mode": {
    "name": "ipython",
    "version": 3
   },
   "file_extension": ".py",
   "mimetype": "text/x-python",
   "name": "python",
   "nbconvert_exporter": "python",
   "pygments_lexer": "ipython3",
   "version": "3.7.12"
  }
 },
 "nbformat": 4,
 "nbformat_minor": 5
}
